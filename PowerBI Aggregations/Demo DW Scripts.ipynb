{
    "metadata": {
        "kernelspec": {
            "name": "SQL",
            "display_name": "SQL",
            "language": "sql"
        },
        "language_info": {
            "name": "sql",
            "version": ""
        }
    },
    "nbformat_minor": 2,
    "nbformat": 4,
    "cells": [
        {
            "cell_type": "code",
            "source": [
                "IF OBJECT_ID('SaleBySalesTerritoryCityBuyingGroup') IS NOT NULL \n",
                "    DROP TABLE SaleBySalesTerritoryCityBuyingGroup\n",
                "GO\n",
                "SELECT [Sales Territory], \n",
                "	   [City],\n",
                "	   [Buying Group],\n",
                "       Quantity_Sum = SUM(Quantity) \n",
                "  INTO SaleBySalesTerritoryCityBuyingGroup\n",
                "  FROM wwi.Fact_Sale S\n",
                "  JOIN wwi.dimension_City C \n",
                "       ON S.[City Key] = C.[City Key]\n",
                "  JOIN wwi.dimension_Customer Cust\n",
                "       ON S.[Customer Key] = Cust.[Customer Key]\n",
                " GROUP BY [Sales Territory], [City], [Buying Group]\n",
                "GO"
            ],
            "metadata": {
                "azdata_cell_guid": "b52fc20a-0c34-4aa1-881f-dc3f08e3fbf4"
            },
            "outputs": [],
            "execution_count": null
        }
    ]
}